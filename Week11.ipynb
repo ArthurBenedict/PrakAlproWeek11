{
 "cells": [
  {
   "cell_type": "code",
   "execution_count": 1,
   "metadata": {},
   "outputs": [
    {
     "name": "stdout",
     "output_type": "stream",
     "text": [
      "True\n"
     ]
    }
   ],
   "source": [
    "def jumlah_anggota(tup):\n",
    "    return len(set(tup)) <= 1\n",
    "\n",
    "tA = (90,90,90,90)\n",
    "print(jumlah_anggota(tA))"
   ]
  },
  {
   "cell_type": "code",
   "execution_count": 2,
   "metadata": {},
   "outputs": [
    {
     "name": "stdout",
     "output_type": "stream",
     "text": [
      "Data: ('Arthur Benedict Permana', '71231029', 'Sedayu, Bantul')\n",
      "NIM: 71231029\n",
      "NAMA: Arthur Benedict Permana\n",
      "ALAMAT: Sedayu, Bantul\n",
      "NIM: ('7', '1', '2', '3', '1', '0', '2', '9')\n",
      "NAMA DEPAN: ('r', 't', 'h', 'u', 'r')\n",
      "NAMA TERBALIK: ('Permana', 'Benedict', 'Arthur')\n"
     ]
    }
   ],
   "source": [
    "def process_data(data):\n",
    "    nim = (data[1])\n",
    "    nama_lengkap = data[0]\n",
    "    alamat = data[2]\n",
    "    nama_depan =[]\n",
    "    for i in data:\n",
    "        kata = i.split()\n",
    "        nama_depan.append(kata[0])\n",
    "    nama_terbalik = tuple(nama_lengkap.split()[::-1])\n",
    "    \n",
    "    print(\"Data:\", data)\n",
    "\n",
    "    print(\"NIM:\", nim)\n",
    "    print(\"NAMA:\", nama_lengkap)\n",
    "    print(\"ALAMAT:\", alamat)\n",
    "\n",
    "    print(\"NIM:\", tuple(data[1]))\n",
    "    print(\"NAMA DEPAN:\", tuple(nama_depan[0])[1:])\n",
    "    print(\"NAMA TERBALIK:\", nama_terbalik)\n",
    "\n",
    "\n",
    "data_diri = ('Arthur Benedict Permana', '71231029', 'Sedayu, Bantul')\n",
    "process_data(data_diri)\n"
   ]
  },
  {
   "cell_type": "code",
   "execution_count": 3,
   "metadata": {},
   "outputs": [
    {
     "name": "stdout",
     "output_type": "stream",
     "text": [
      "04 3\n",
      "06 1\n",
      "07 1\n",
      "09 2\n",
      "10 3\n",
      "11 6\n",
      "14 1\n",
      "15 2\n",
      "16 4\n",
      "17 2\n",
      "18 1\n",
      "19 1\n"
     ]
    }
   ],
   "source": [
    "def hitung_distribusi_jam(file_name):\n",
    "    try:\n",
    "        with open(file_name) as file:\n",
    "            distri_jam = dict()\n",
    "\n",
    "            for a in file:\n",
    "                if a.startswith('From '):\n",
    "                    kata = a.split()\n",
    "                    jam = kata[5].split(':')[0]\n",
    "                    distri_jam[jam] = distri_jam.get(jam, 0) + 1\n",
    "\n",
    "            for jam in sorted(distri_jam.keys()):\n",
    "                print(jam, distri_jam[jam])\n",
    "\n",
    "    except FileNotFoundError:\n",
    "        print(\"File not found.\")\n",
    "\n",
    "nama_file = input(\"Masukkan nama file: \")\n",
    "hitung_distribusi_jam(nama_file)"
   ]
  }
 ],
 "metadata": {
  "kernelspec": {
   "display_name": "Python 3",
   "language": "python",
   "name": "python3"
  },
  "language_info": {
   "codemirror_mode": {
    "name": "ipython",
    "version": 3
   },
   "file_extension": ".py",
   "mimetype": "text/x-python",
   "name": "python",
   "nbconvert_exporter": "python",
   "pygments_lexer": "ipython3",
   "version": "3.12.0"
  }
 },
 "nbformat": 4,
 "nbformat_minor": 2
}
